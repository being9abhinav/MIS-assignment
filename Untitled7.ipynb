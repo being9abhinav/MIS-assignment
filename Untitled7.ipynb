{
 "cells": [
  {
   "cell_type": "code",
   "execution_count": 1,
   "id": "d9a21202",
   "metadata": {},
   "outputs": [
    {
     "name": "stdout",
     "output_type": "stream",
     "text": [
      "Output file 'output_file.csv' has been created in the 'C:\\Users\\Abhinav Singh\\Downloads' folder.\n"
     ]
    }
   ],
   "source": [
    "import os\n",
    "import csv\n",
    "\n",
    "# Get the user's home directory\n",
    "home_dir = os.path.expanduser(\"~\")\n",
    "\n",
    "# Full path to the \"Downloads\" folder\n",
    "downloads_folder = os.path.join(home_dir, \"Downloads\")\n",
    "\n",
    "# Process each input file from the \"Downloads\" folder\n",
    "def process_csv_file(file_path):\n",
    "    data = []\n",
    "    with open(file_path, 'r') as file:\n",
    "        csv_reader = csv.reader(file)\n",
    "        for row in csv_reader:\n",
    "            data.append(row)\n",
    "    return data\n",
    "\n",
    "# Process each input file\n",
    "input_file1 = process_csv_file(os.path.join(downloads_folder, 'cm.csv'))\n",
    "input_file2 = process_csv_file(os.path.join(downloads_folder, 'cd.csv'))\n",
    "input_file3 = process_csv_file(os.path.join(downloads_folder, 'fo.csv'))\n",
    "\n",
    "# Initialize the output data\n",
    "output_data = []\n",
    "\n",
    "# Loop through the data in the input files and construct the output data\n",
    "for i in range(len(input_file1)):\n",
    "    row1 = input_file1[i]\n",
    "    row2 = input_file2[i]\n",
    "    row3 = input_file3[i]\n",
    "    \n",
    "    output_row = []\n",
    "\n",
    "    output_row.append(\"14-Aug-23\")  # Date\n",
    "    output_row.append(\"CM\")         # Code\n",
    "\n",
    "    # Extracting data from input files\n",
    "    code = row1[1]\n",
    "    amount1 = float(row1[4])\n",
    "    amount2 = float(row2[2])\n",
    "    amount3 = float(row3[2])\n",
    "\n",
    "    # Calculations\n",
    "    total_amount = amount1 + amount2 + amount3\n",
    "    category = \"C\" if total_amount > 0 else \"U\"\n",
    "    formatted_amount = \"{:.2f}\".format(total_amount)\n",
    "\n",
    "    # Construct the output row\n",
    "    output_row.append(row1[0])      # Field1\n",
    "    output_row.append(row1[0])      # Field2\n",
    "    output_row.append(\"\")          # Empty field\n",
    "    output_row.append(code)        # Code\n",
    "    output_row.append(category)    # Category\n",
    "    output_row.append(formatted_amount)  # Formatted amount\n",
    "    output_row.append(\"\")     # Empty field\n",
    "    output_row.append(\"\")\n",
    "    output_row.append(\"\")\n",
    "    output_row.append(\"\")\n",
    "    output_row.append(\"\")\n",
    "    output_row.append(\"\")\n",
    "    output_row.append(\"U\")         # U\n",
    "\n",
    "    # Append the output row to the final output data\n",
    "    output_data.append(output_row)\n",
    "\n",
    "# Create the output data in CSV format\n",
    "output_csv_file_path = os.path.join(downloads_folder, 'output_file.csv')\n",
    "\n",
    "# Write the output data to a CSV file\n",
    "with open(output_csv_file_path, 'w', newline='') as output_csv_file:\n",
    "    csv_writer = csv.writer(output_csv_file)\n",
    "    for row in output_data:\n",
    "        csv_writer.writerow(row)\n",
    "\n",
    "print(f\"Output file 'output_file.csv' has been created in the '{downloads_folder}' folder.\")\n"
   ]
  },
  {
   "cell_type": "code",
   "execution_count": null,
   "id": "c246e521",
   "metadata": {},
   "outputs": [],
   "source": []
  }
 ],
 "metadata": {
  "kernelspec": {
   "display_name": "Python 3 (ipykernel)",
   "language": "python",
   "name": "python3"
  },
  "language_info": {
   "codemirror_mode": {
    "name": "ipython",
    "version": 3
   },
   "file_extension": ".py",
   "mimetype": "text/x-python",
   "name": "python",
   "nbconvert_exporter": "python",
   "pygments_lexer": "ipython3",
   "version": "3.9.7"
  }
 },
 "nbformat": 4,
 "nbformat_minor": 5
}
